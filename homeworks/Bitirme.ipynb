{
 "cells": [
  {
   "cell_type": "markdown",
   "metadata": {},
   "source": [
    "# 1) Introduction"
   ]
  },
  {
   "attachments": {},
   "cell_type": "markdown",
   "metadata": {},
   "source": [
    "## What is recommendation engine\n",
    "    \n",
    "Recommendation engines are powerful tools to analyze huge amount of data according to user and product information. A recommendation engine makes a mathematical model which predicts how much a user likes an item.\n",
    "\n",
    "The principal aim of recommender systems is to provide appliacable suggestions to online users to make better decisions from many options available over the internet \n",
    "\n",
    "In mathematical way;<br>\n",
    "If U => users, I => items then F => Objective function and computess the usefulness of item I to user U, given by:<br>\n",
    "<br>\n",
    "F: U X I -> R<br>\n",
    "<br>\n",
    "Where R => recommended items.<br>\n",
    "<br>\n",
    "For each user u, we want to choose the item i that maximizes the objective function:<br>\n",
    "u ϵ U, I<sup>ı</sup><sub>u</sub> =argmax<sub>u</sub>u(u,i)"
   ]
  },
  {
   "cell_type": "markdown",
   "metadata": {},
   "source": [
    "## The History of Reco Engines\n",
    "\n",
    "Recommender systems were first mentioned in a technical report as a \"digital bookshelf\" in 1990 by Jussi Karlgren at Columbia University,[13] and implemented at scale and worked through in technical reports and publications from 1994 onwards by Jussi Karlgren, then at SICS,[14] [15] and research groups led by Pattie Maes at MIT,[16] Will Hill at Bellcore,[17] and Paul Resnick, also at MIT[18] [19] whose work with GroupLens was awarded the 2010 ACM Software Systems Award.\n",
    "\n",
    "Montaner provided the first overview of recommender systems from an intelligent agent perspective.[20] Adomavicius provided a new, alternate overview of recommender systems.[21] Herlocker provides an additional overview of evaluation techniques for recommender systems,[22] and Beel et al. discussed the problems of offline evaluations.[23] Beel et al. have also provided literature surveys on available research paper recommender systems and existing challenges.[24][25][26]  (https://en.wikipedia.org/wiki/Recommender_system#cite_note-13)\n"
   ]
  },
  {
   "cell_type": "markdown",
   "metadata": {},
   "source": [
    "## The things are made by Reco Engine\n",
    "\n",
    "#### E-commerce websites\n",
    "* Frequently bought together <br>\n",
    "* Customers who bought this item also bought this item<br>\n",
    "\n",
    "\n"
   ]
  },
  {
   "cell_type": "markdown",
   "metadata": {},
   "source": [
    "#### Facebook\n",
    "* People You may know<br>"
   ]
  },
  {
   "cell_type": "markdown",
   "metadata": {},
   "source": [
    "#### Netflix\n",
    "* Other movies you might enjoy<br>"
   ]
  },
  {
   "cell_type": "markdown",
   "metadata": {},
   "source": [
    "#### LinkedIn\n",
    "* Jobs you may interested in"
   ]
  },
  {
   "attachments": {},
   "cell_type": "markdown",
   "metadata": {},
   "source": [
    "# 2) Types of Reco Engines\n",
    "\n",
    "##### Neighborhood-based recommendation engines:\n",
    "* User-based collaborative filtering\t\n",
    "* Item-based collaborative filtering<br>\n",
    "\n",
    "\n"
   ]
  },
  {
   "cell_type": "markdown",
   "metadata": {},
   "source": [
    "##### Personalized recommendation engines:\n",
    "* Content-based recommendation engines \n",
    "* Context-aware recommendation engines<br>"
   ]
  },
  {
   "cell_type": "markdown",
   "metadata": {},
   "source": [
    "##### Model-based recommendation engines:\n",
    "* ML-based recommendation engines\n",
    "* Classification - SVM/KNN\n",
    "* Matrix Factorization\n",
    "* Singular value decomposition\n",
    "* Alternating Least Squares\n",
    "* Hybrid recommendation engines<br>"
   ]
  },
  {
   "cell_type": "markdown",
   "metadata": {},
   "source": [
    "##### Hybrid Reco Engines\n",
    "* Weighted method \n",
    "* Mixed method\n",
    "* Switching method\n",
    "* Cascade method\n",
    "* Feature combination method\n",
    "* Feature augmentation\n",
    "* Meta-level"
   ]
  },
  {
   "cell_type": "markdown",
   "metadata": {},
   "source": [
    "# 3) How does reco engine work?\n",
    "An item can be recommended to users in 2 ways <br>\n",
    "* An item which is the most trendy among all the users can be recommended\n",
    "* Users can be clasified by multiple segments based on their inclinations (user features) and recommend items to them based on the segment they appropriate to.\n"
   ]
  },
  {
   "cell_type": "markdown",
   "metadata": {},
   "source": [
    "## 3.1) Data Collection"
   ]
  },
  {
   "cell_type": "code",
   "execution_count": null,
   "metadata": {},
   "outputs": [],
   "source": []
  },
  {
   "cell_type": "code",
   "execution_count": null,
   "metadata": {},
   "outputs": [],
   "source": []
  }
 ],
 "metadata": {
  "kernelspec": {
   "display_name": "Python 3",
   "language": "python",
   "name": "python3"
  },
  "language_info": {
   "codemirror_mode": {
    "name": "ipython",
    "version": 3
   },
   "file_extension": ".py",
   "mimetype": "text/x-python",
   "name": "python",
   "nbconvert_exporter": "python",
   "pygments_lexer": "ipython3",
   "version": "3.6.6"
  }
 },
 "nbformat": 4,
 "nbformat_minor": 2
}
