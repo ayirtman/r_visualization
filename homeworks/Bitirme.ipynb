{
 "cells": [
  {
   "cell_type": "markdown",
   "metadata": {},
   "source": [
    "# 1) Introduction"
   ]
  },
  {
   "attachments": {},
   "cell_type": "markdown",
   "metadata": {},
   "source": [
    "## What is recommendation engine\n",
    "    \n",
    "Recommendation engines are powerful tools to analyze huge amount of data according to user and product information. A recommendation engine makes a mathematical model which predicts how much a user likes an item.\n",
    "\n",
    "Pulkit Sharma states that \"A recommendation engine filters the data using different algorithms and recommends the most relevant items to users. It first captures the past behavior of a customer and based on that, recommends products which the users might be likely to buy.\" (from: https://www.analyticsvidhya.com/blog/2018/06/comprehensive-guide-recommendation-engine-python/)"
   ]
  },
  {
   "cell_type": "markdown",
   "metadata": {},
   "source": [
    "## The History of Reco Engines\n",
    "\n",
    "Recommender systems were first mentioned in a technical report as a \"digital bookshelf\" in 1990 by Jussi Karlgren at Columbia University,[13] and implemented at scale and worked through in technical reports and publications from 1994 onwards by Jussi Karlgren, then at SICS,[14] [15] and research groups led by Pattie Maes at MIT,[16] Will Hill at Bellcore,[17] and Paul Resnick, also at MIT[18] [19] whose work with GroupLens was awarded the 2010 ACM Software Systems Award.\n",
    "\n",
    "Montaner provided the first overview of recommender systems from an intelligent agent perspective.[20] Adomavicius provided a new, alternate overview of recommender systems.[21] Herlocker provides an additional overview of evaluation techniques for recommender systems,[22] and Beel et al. discussed the problems of offline evaluations.[23] Beel et al. have also provided literature surveys on available research paper recommender systems and existing challenges.[24][25][26]  (https://en.wikipedia.org/wiki/Recommender_system#cite_note-13)\n"
   ]
  },
  {
   "cell_type": "markdown",
   "metadata": {},
   "source": [
    "## The things are made by Reco Engine\n",
    "\n",
    "#### E-commerce websites\n",
    "* Frequently bought together <br>\n",
    "* Customers who bought this item also bought this item<br>\n",
    "\n",
    "\n"
   ]
  },
  {
   "cell_type": "markdown",
   "metadata": {},
   "source": [
    "#### Facebook\n",
    "* People You may know<br>"
   ]
  },
  {
   "cell_type": "markdown",
   "metadata": {},
   "source": [
    "#### Netflix\n",
    "* Other movies you might enjoy<br>"
   ]
  },
  {
   "cell_type": "markdown",
   "metadata": {},
   "source": [
    "#### LinkedIn\n",
    "* Jobs you may interested in"
   ]
  },
  {
   "attachments": {},
   "cell_type": "markdown",
   "metadata": {},
   "source": [
    "# 2) Types of Reco Engines\n",
    "\n",
    "##### Neighborhood-based recommendation engines:\n",
    "* User-based collaborative filtering\t\n",
    "* Item-based collaborative filtering<br>\n",
    "##### Personalized recommendation engines:\n",
    "* Content-based recommendation engines \n",
    "* Context-aware recommendation engines<br>\n",
    "##### Model-based recommendation engines:\n",
    "* ML-based recommendation engines\n",
    "* Classification - SVM/KNN\n",
    "* Matrix Factorization\n",
    "* Singular value decomposition\n",
    "* Alternating Least Squares\n",
    "* Hybrid recommendation engines<br>\n",
    "##### Hybrid Reco Engines\n",
    "* Weighted method \n",
    "* Mixed method\n",
    "* Switching method\n",
    "* Cascade method\n",
    "* Feature combination method\n",
    "* Feature augmentation\n",
    "* Meta-level"
   ]
  }
 ],
 "metadata": {
  "kernelspec": {
   "display_name": "Python 3",
   "language": "python",
   "name": "python3"
  },
  "language_info": {
   "codemirror_mode": {
    "name": "ipython",
    "version": 3
   },
   "file_extension": ".py",
   "mimetype": "text/x-python",
   "name": "python",
   "nbconvert_exporter": "python",
   "pygments_lexer": "ipython3",
   "version": "3.6.6"
  }
 },
 "nbformat": 4,
 "nbformat_minor": 2
}
