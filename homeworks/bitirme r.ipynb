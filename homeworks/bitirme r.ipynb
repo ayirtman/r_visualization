{
 "cells": [
  {
   "cell_type": "code",
   "execution_count": 1,
   "metadata": {},
   "outputs": [],
   "source": [
    "ratings <- read.csv(file.choose())"
   ]
  },
  {
   "cell_type": "code",
   "execution_count": 2,
   "metadata": {},
   "outputs": [
    {
     "data": {
      "text/html": [
       "<table>\n",
       "<thead><tr><th scope=col>critic</th><th scope=col>title</th><th scope=col>rating</th></tr></thead>\n",
       "<tbody>\n",
       "\t<tr><td>Jack Matthews     </td><td>Lady in the Water </td><td>3.0               </td></tr>\n",
       "\t<tr><td>Jack Matthews     </td><td>Snakes on a Plane </td><td>4.0               </td></tr>\n",
       "\t<tr><td>Jack Matthews     </td><td>You Me and Dupree </td><td>3.5               </td></tr>\n",
       "\t<tr><td>Jack Matthews     </td><td>Superman Returns  </td><td>5.0               </td></tr>\n",
       "\t<tr><td>Jack Matthews     </td><td>The Night Listener</td><td>3.0               </td></tr>\n",
       "\t<tr><td>Mick LaSalle      </td><td>Lady in the Water </td><td>3.0               </td></tr>\n",
       "</tbody>\n",
       "</table>\n"
      ],
      "text/latex": [
       "\\begin{tabular}{r|lll}\n",
       " critic & title & rating\\\\\n",
       "\\hline\n",
       "\t Jack Matthews      & Lady in the Water  & 3.0               \\\\\n",
       "\t Jack Matthews      & Snakes on a Plane  & 4.0               \\\\\n",
       "\t Jack Matthews      & You Me and Dupree  & 3.5               \\\\\n",
       "\t Jack Matthews      & Superman Returns   & 5.0               \\\\\n",
       "\t Jack Matthews      & The Night Listener & 3.0               \\\\\n",
       "\t Mick LaSalle       & Lady in the Water  & 3.0               \\\\\n",
       "\\end{tabular}\n"
      ],
      "text/markdown": [
       "\n",
       "| critic | title | rating |\n",
       "|---|---|---|\n",
       "| Jack Matthews      | Lady in the Water  | 3.0                |\n",
       "| Jack Matthews      | Snakes on a Plane  | 4.0                |\n",
       "| Jack Matthews      | You Me and Dupree  | 3.5                |\n",
       "| Jack Matthews      | Superman Returns   | 5.0                |\n",
       "| Jack Matthews      | The Night Listener | 3.0                |\n",
       "| Mick LaSalle       | Lady in the Water  | 3.0                |\n",
       "\n"
      ],
      "text/plain": [
       "  critic        title              rating\n",
       "1 Jack Matthews Lady in the Water  3.0   \n",
       "2 Jack Matthews Snakes on a Plane  4.0   \n",
       "3 Jack Matthews You Me and Dupree  3.5   \n",
       "4 Jack Matthews Superman Returns   5.0   \n",
       "5 Jack Matthews The Night Listener 3.0   \n",
       "6 Mick LaSalle  Lady in the Water  3.0   "
      ]
     },
     "metadata": {},
     "output_type": "display_data"
    },
    {
     "data": {
      "text/html": [
       "<ol class=list-inline>\n",
       "\t<li>31</li>\n",
       "\t<li>3</li>\n",
       "</ol>\n"
      ],
      "text/latex": [
       "\\begin{enumerate*}\n",
       "\\item 31\n",
       "\\item 3\n",
       "\\end{enumerate*}\n"
      ],
      "text/markdown": [
       "1. 31\n",
       "2. 3\n",
       "\n",
       "\n"
      ],
      "text/plain": [
       "[1] 31  3"
      ]
     },
     "metadata": {},
     "output_type": "display_data"
    }
   ],
   "source": [
    "head(ratings)\n",
    "dim(ratings)"
   ]
  },
  {
   "cell_type": "code",
   "execution_count": 3,
   "metadata": {},
   "outputs": [
    {
     "name": "stderr",
     "output_type": "stream",
     "text": [
      "Warning message:\n",
      "\"unable to access index for repository https://cran.r-project.org/src/contrib:\n",
      "  URL 'https://cran.r-project.org/src/contrib/PACKAGES' açılamıyor\"Warning message:\n",
      "\"package 'reshape2' is not available (for R version 3.5.1)\"Warning message:\n",
      "\"unable to access index for repository https://cran.r-project.org/bin/windows/contrib/3.5:\n",
      "  URL 'https://cran.r-project.org/bin/windows/contrib/3.5/PACKAGES' açılamıyor\"Warning message:\n",
      "\"package 'reshape2' was built under R version 3.5.2\""
     ]
    }
   ],
   "source": [
    "install.packages(\"reshape2\")\n",
    "library(reshape2)"
   ]
  },
  {
   "cell_type": "code",
   "execution_count": 4,
   "metadata": {},
   "outputs": [
    {
     "data": {
      "text/html": [
       "<table>\n",
       "<thead><tr><th></th><th scope=col>Claudia Puig</th><th scope=col>Gene Seymour</th><th scope=col>Jack Matthews</th><th scope=col>Lisa Rose</th><th scope=col>Mick LaSalle</th><th scope=col>Toby</th></tr></thead>\n",
       "<tbody>\n",
       "\t<tr><th scope=row>Just My Luck</th><td>3.0</td><td>1.5</td><td> NA</td><td>3.0</td><td>2  </td><td> NA</td></tr>\n",
       "\t<tr><th scope=row>Lady in the Water</th><td> NA</td><td>3.0</td><td>3.0</td><td>2.5</td><td>3  </td><td> NA</td></tr>\n",
       "\t<tr><th scope=row>Snakes on a Plane</th><td>3.5</td><td>3.5</td><td>4.0</td><td>3.5</td><td>4  </td><td>4.5</td></tr>\n",
       "\t<tr><th scope=row>Superman Returns</th><td>4.0</td><td>5.0</td><td>5.0</td><td>3.5</td><td>3  </td><td>4.0</td></tr>\n",
       "\t<tr><th scope=row>The Night Listener</th><td>4.5</td><td>3.0</td><td>3.0</td><td>3.0</td><td>3  </td><td> NA</td></tr>\n",
       "\t<tr><th scope=row>You Me and Dupree</th><td>2.5</td><td>3.5</td><td>3.5</td><td>2.5</td><td>2  </td><td>1.0</td></tr>\n",
       "</tbody>\n",
       "</table>\n"
      ],
      "text/latex": [
       "\\begin{tabular}{r|llllll}\n",
       "  & Claudia Puig & Gene Seymour & Jack Matthews & Lisa Rose & Mick LaSalle & Toby\\\\\n",
       "\\hline\n",
       "\tJust My Luck & 3.0 & 1.5 &  NA & 3.0 & 2   &  NA\\\\\n",
       "\tLady in the Water &  NA & 3.0 & 3.0 & 2.5 & 3   &  NA\\\\\n",
       "\tSnakes on a Plane & 3.5 & 3.5 & 4.0 & 3.5 & 4   & 4.5\\\\\n",
       "\tSuperman Returns & 4.0 & 5.0 & 5.0 & 3.5 & 3   & 4.0\\\\\n",
       "\tThe Night Listener & 4.5 & 3.0 & 3.0 & 3.0 & 3   &  NA\\\\\n",
       "\tYou Me and Dupree & 2.5 & 3.5 & 3.5 & 2.5 & 2   & 1.0\\\\\n",
       "\\end{tabular}\n"
      ],
      "text/markdown": [
       "\n",
       "| <!--/--> | Claudia Puig | Gene Seymour | Jack Matthews | Lisa Rose | Mick LaSalle | Toby |\n",
       "|---|---|---|---|---|---|---|\n",
       "| Just My Luck | 3.0 | 1.5 |  NA | 3.0 | 2   |  NA |\n",
       "| Lady in the Water |  NA | 3.0 | 3.0 | 2.5 | 3   |  NA |\n",
       "| Snakes on a Plane | 3.5 | 3.5 | 4.0 | 3.5 | 4   | 4.5 |\n",
       "| Superman Returns | 4.0 | 5.0 | 5.0 | 3.5 | 3   | 4.0 |\n",
       "| The Night Listener | 4.5 | 3.0 | 3.0 | 3.0 | 3   |  NA |\n",
       "| You Me and Dupree | 2.5 | 3.5 | 3.5 | 2.5 | 2   | 1.0 |\n",
       "\n"
      ],
      "text/plain": [
       "                   Claudia Puig Gene Seymour Jack Matthews Lisa Rose\n",
       "Just My Luck       3.0          1.5           NA           3.0      \n",
       "Lady in the Water   NA          3.0          3.0           2.5      \n",
       "Snakes on a Plane  3.5          3.5          4.0           3.5      \n",
       "Superman Returns   4.0          5.0          5.0           3.5      \n",
       "The Night Listener 4.5          3.0          3.0           3.0      \n",
       "You Me and Dupree  2.5          3.5          3.5           2.5      \n",
       "                   Mick LaSalle Toby\n",
       "Just My Luck       2             NA \n",
       "Lady in the Water  3             NA \n",
       "Snakes on a Plane  4            4.5 \n",
       "Superman Returns   3            4.0 \n",
       "The Night Listener 3             NA \n",
       "You Me and Dupree  2            1.0 "
      ]
     },
     "metadata": {},
     "output_type": "display_data"
    }
   ],
   "source": [
    "movie_ratings = as.data.frame(acast(ratings, title~critic,\n",
    "value.var=\"rating\"))\n",
    "movie_ratings"
   ]
  },
  {
   "cell_type": "code",
   "execution_count": 5,
   "metadata": {},
   "outputs": [
    {
     "data": {
      "text/html": [
       "<table>\n",
       "<thead><tr><th></th><th scope=col>Claudia Puig</th><th scope=col>Gene Seymour</th><th scope=col>Jack Matthews</th><th scope=col>Lisa Rose</th><th scope=col>Mick LaSalle</th><th scope=col>Toby</th></tr></thead>\n",
       "<tbody>\n",
       "\t<tr><th scope=row>Claudia Puig</th><td>1.0000000</td><td>0.7559289</td><td>0.9285714</td><td>0.9449112</td><td>0.6546537</td><td>0.8934051</td></tr>\n",
       "\t<tr><th scope=row>Gene Seymour</th><td>0.7559289</td><td>1.0000000</td><td>0.9449112</td><td>0.5000000</td><td>0.0000000</td><td>0.3812464</td></tr>\n",
       "\t<tr><th scope=row>Jack Matthews</th><td>0.9285714</td><td>0.9449112</td><td>1.0000000</td><td>0.7559289</td><td>0.3273268</td><td>0.6628490</td></tr>\n",
       "\t<tr><th scope=row>Lisa Rose</th><td>0.9449112</td><td>0.5000000</td><td>0.7559289</td><td>1.0000000</td><td>0.8660254</td><td>0.9912407</td></tr>\n",
       "\t<tr><th scope=row>Mick LaSalle</th><td>0.6546537</td><td>0.0000000</td><td>0.3273268</td><td>0.8660254</td><td>1.0000000</td><td>0.9244735</td></tr>\n",
       "\t<tr><th scope=row>Toby</th><td>0.8934051</td><td>0.3812464</td><td>0.6628490</td><td>0.9912407</td><td>0.9244735</td><td>1.0000000</td></tr>\n",
       "</tbody>\n",
       "</table>\n"
      ],
      "text/latex": [
       "\\begin{tabular}{r|llllll}\n",
       "  & Claudia Puig & Gene Seymour & Jack Matthews & Lisa Rose & Mick LaSalle & Toby\\\\\n",
       "\\hline\n",
       "\tClaudia Puig & 1.0000000 & 0.7559289 & 0.9285714 & 0.9449112 & 0.6546537 & 0.8934051\\\\\n",
       "\tGene Seymour & 0.7559289 & 1.0000000 & 0.9449112 & 0.5000000 & 0.0000000 & 0.3812464\\\\\n",
       "\tJack Matthews & 0.9285714 & 0.9449112 & 1.0000000 & 0.7559289 & 0.3273268 & 0.6628490\\\\\n",
       "\tLisa Rose & 0.9449112 & 0.5000000 & 0.7559289 & 1.0000000 & 0.8660254 & 0.9912407\\\\\n",
       "\tMick LaSalle & 0.6546537 & 0.0000000 & 0.3273268 & 0.8660254 & 1.0000000 & 0.9244735\\\\\n",
       "\tToby & 0.8934051 & 0.3812464 & 0.6628490 & 0.9912407 & 0.9244735 & 1.0000000\\\\\n",
       "\\end{tabular}\n"
      ],
      "text/markdown": [
       "\n",
       "| <!--/--> | Claudia Puig | Gene Seymour | Jack Matthews | Lisa Rose | Mick LaSalle | Toby |\n",
       "|---|---|---|---|---|---|---|\n",
       "| Claudia Puig | 1.0000000 | 0.7559289 | 0.9285714 | 0.9449112 | 0.6546537 | 0.8934051 |\n",
       "| Gene Seymour | 0.7559289 | 1.0000000 | 0.9449112 | 0.5000000 | 0.0000000 | 0.3812464 |\n",
       "| Jack Matthews | 0.9285714 | 0.9449112 | 1.0000000 | 0.7559289 | 0.3273268 | 0.6628490 |\n",
       "| Lisa Rose | 0.9449112 | 0.5000000 | 0.7559289 | 1.0000000 | 0.8660254 | 0.9912407 |\n",
       "| Mick LaSalle | 0.6546537 | 0.0000000 | 0.3273268 | 0.8660254 | 1.0000000 | 0.9244735 |\n",
       "| Toby | 0.8934051 | 0.3812464 | 0.6628490 | 0.9912407 | 0.9244735 | 1.0000000 |\n",
       "\n"
      ],
      "text/plain": [
       "              Claudia Puig Gene Seymour Jack Matthews Lisa Rose Mick LaSalle\n",
       "Claudia Puig  1.0000000    0.7559289    0.9285714     0.9449112 0.6546537   \n",
       "Gene Seymour  0.7559289    1.0000000    0.9449112     0.5000000 0.0000000   \n",
       "Jack Matthews 0.9285714    0.9449112    1.0000000     0.7559289 0.3273268   \n",
       "Lisa Rose     0.9449112    0.5000000    0.7559289     1.0000000 0.8660254   \n",
       "Mick LaSalle  0.6546537    0.0000000    0.3273268     0.8660254 1.0000000   \n",
       "Toby          0.8934051    0.3812464    0.6628490     0.9912407 0.9244735   \n",
       "              Toby     \n",
       "Claudia Puig  0.8934051\n",
       "Gene Seymour  0.3812464\n",
       "Jack Matthews 0.6628490\n",
       "Lisa Rose     0.9912407\n",
       "Mick LaSalle  0.9244735\n",
       "Toby          1.0000000"
      ]
     },
     "metadata": {},
     "output_type": "display_data"
    }
   ],
   "source": [
    "sim_users <- cor(movie_ratings[,1:6],use=\"complete.obs\")\n",
    "sim_users"
   ]
  },
  {
   "cell_type": "code",
   "execution_count": 6,
   "metadata": {},
   "outputs": [
    {
     "name": "stderr",
     "output_type": "stream",
     "text": [
      "Warning message:\n",
      "\"unable to access index for repository https://cran.r-project.org/src/contrib:\n",
      "  URL 'https://cran.r-project.org/src/contrib/PACKAGES' açılamıyor\"Warning message:\n",
      "\"unable to access index for repository https://cran.r-project.org/src/contrib:\n",
      "  URL 'https://cran.r-project.org/src/contrib/PACKAGES' açılamıyor\"Warning message:\n",
      "\"package 'data.table' is not available (for R version 3.5.1)\"Warning message:\n",
      "\"unable to access index for repository https://cran.r-project.org/bin/windows/contrib/3.5:\n",
      "  URL 'https://cran.r-project.org/bin/windows/contrib/3.5/PACKAGES' açılamıyor\"Warning message:\n",
      "\"package 'data.table' was built under R version 3.5.2\"\n",
      "Attaching package: 'data.table'\n",
      "\n",
      "The following objects are masked from 'package:reshape2':\n",
      "\n",
      "    dcast, melt\n",
      "\n",
      "Warning message:\n",
      "\"unable to access index for repository https://cran.r-project.org/src/contrib:\n",
      "  URL 'https://cran.r-project.org/src/contrib/PACKAGES' açılamıyor\"Warning message:\n",
      "\"package 'dply' is not available (for R version 3.5.1)\"Warning message:\n",
      "\"unable to access index for repository https://cran.r-project.org/bin/windows/contrib/3.5:\n",
      "  URL 'https://cran.r-project.org/bin/windows/contrib/3.5/PACKAGES' açılamıyor\"Warning message:\n",
      "\"unable to access index for repository https://cran.r-project.org/src/contrib:\n",
      "  URL 'https://cran.r-project.org/src/contrib/PACKAGES' açılamıyor\"Warning message:\n",
      "\"package 'dplyr' is not available (for R version 3.5.1)\"Warning message:\n",
      "\"unable to access index for repository https://cran.r-project.org/bin/windows/contrib/3.5:\n",
      "  URL 'https://cran.r-project.org/bin/windows/contrib/3.5/PACKAGES' açılamıyor\"Warning message:\n",
      "\"package 'dplyr' was built under R version 3.5.2\"\n",
      "Attaching package: 'dplyr'\n",
      "\n",
      "The following objects are masked from 'package:data.table':\n",
      "\n",
      "    between, first, last\n",
      "\n",
      "The following objects are masked from 'package:stats':\n",
      "\n",
      "    filter, lag\n",
      "\n",
      "The following objects are masked from 'package:base':\n",
      "\n",
      "    intersect, setdiff, setequal, union\n",
      "\n",
      "------------------------------------------------------------------------------\n",
      "You have loaded plyr after dplyr - this is likely to cause problems.\n",
      "If you need functions from both plyr and dplyr, please load plyr first, then dplyr:\n",
      "library(plyr); library(dplyr)\n",
      "------------------------------------------------------------------------------\n",
      "\n",
      "Attaching package: 'plyr'\n",
      "\n",
      "The following objects are masked from 'package:dplyr':\n",
      "\n",
      "    arrange, count, desc, failwith, id, mutate, rename, summarise,\n",
      "    summarize\n",
      "\n"
     ]
    }
   ],
   "source": [
    "update.packages(ask = FALSE)\n",
    "install.packages(\"data.table\")\n",
    "library(data.table)\n",
    "install.packages(\"dply\")\n",
    "install.packages(\"dplyr\")\n",
    "library(dplyr)\n",
    "library(plyr)"
   ]
  },
  {
   "cell_type": "code",
   "execution_count": 7,
   "metadata": {},
   "outputs": [
    {
     "data": {
      "text/html": [
       "<table>\n",
       "<thead><tr><th scope=col>title</th><th scope=col>rating</th></tr></thead>\n",
       "<tbody>\n",
       "\t<tr><td>Just My Luck      </td><td> NA               </td></tr>\n",
       "\t<tr><td>Lady in the Water </td><td> NA               </td></tr>\n",
       "\t<tr><td>Snakes on a Plane </td><td>4.5               </td></tr>\n",
       "\t<tr><td>Superman Returns  </td><td>4.0               </td></tr>\n",
       "\t<tr><td>The Night Listener</td><td> NA               </td></tr>\n",
       "\t<tr><td>You Me and Dupree </td><td>1.0               </td></tr>\n",
       "</tbody>\n",
       "</table>\n"
      ],
      "text/latex": [
       "\\begin{tabular}{r|ll}\n",
       " title & rating\\\\\n",
       "\\hline\n",
       "\t Just My Luck       &  NA               \\\\\n",
       "\t Lady in the Water  &  NA               \\\\\n",
       "\t Snakes on a Plane  & 4.5               \\\\\n",
       "\t Superman Returns   & 4.0               \\\\\n",
       "\t The Night Listener &  NA               \\\\\n",
       "\t You Me and Dupree  & 1.0               \\\\\n",
       "\\end{tabular}\n"
      ],
      "text/markdown": [
       "\n",
       "| title | rating |\n",
       "|---|---|\n",
       "| Just My Luck       |  NA                |\n",
       "| Lady in the Water  |  NA                |\n",
       "| Snakes on a Plane  | 4.5                |\n",
       "| Superman Returns   | 4.0                |\n",
       "| The Night Listener |  NA                |\n",
       "| You Me and Dupree  | 1.0                |\n",
       "\n"
      ],
      "text/plain": [
       "  title              rating\n",
       "1 Just My Luck        NA   \n",
       "2 Lady in the Water   NA   \n",
       "3 Snakes on a Plane  4.5   \n",
       "4 Superman Returns   4.0   \n",
       "5 The Night Listener  NA   \n",
       "6 You Me and Dupree  1.0   "
      ]
     },
     "metadata": {},
     "output_type": "display_data"
    }
   ],
   "source": [
    "rating_critic <- setDT(movie_ratings[colnames(movie_ratings)[6]],keep.rownames=T)[\n",
    "]\n",
    "names(rating_critic)=c(\"title\",\"rating\")\n",
    "rating_critic"
   ]
  },
  {
   "cell_type": "code",
   "execution_count": 8,
   "metadata": {},
   "outputs": [
    {
     "data": {
      "text/html": [
       "<ol class=list-inline>\n",
       "\t<li>'Just My Luck'</li>\n",
       "\t<li>'Lady in the Water'</li>\n",
       "\t<li>'The Night Listener'</li>\n",
       "</ol>\n"
      ],
      "text/latex": [
       "\\begin{enumerate*}\n",
       "\\item 'Just My Luck'\n",
       "\\item 'Lady in the Water'\n",
       "\\item 'The Night Listener'\n",
       "\\end{enumerate*}\n"
      ],
      "text/markdown": [
       "1. 'Just My Luck'\n",
       "2. 'Lady in the Water'\n",
       "3. 'The Night Listener'\n",
       "\n",
       "\n"
      ],
      "text/plain": [
       "[1] \"Just My Luck\"       \"Lady in the Water\"  \"The Night Listener\""
      ]
     },
     "metadata": {},
     "output_type": "display_data"
    }
   ],
   "source": [
    "titles_na_critic <- rating_critic$title[is.na(rating_critic$rating)]\n",
    "titles_na_critic"
   ]
  },
  {
   "cell_type": "code",
   "execution_count": 9,
   "metadata": {},
   "outputs": [
    {
     "data": {
      "text/html": [
       "<table>\n",
       "<thead><tr><th></th><th scope=col>critic</th><th scope=col>title</th><th scope=col>rating</th></tr></thead>\n",
       "<tbody>\n",
       "\t<tr><th scope=row>1</th><td>Jack Matthews     </td><td>Lady in the Water </td><td>3.0               </td></tr>\n",
       "\t<tr><th scope=row>5</th><td>Jack Matthews     </td><td>The Night Listener</td><td>3.0               </td></tr>\n",
       "\t<tr><th scope=row>6</th><td>Mick LaSalle      </td><td>Lady in the Water </td><td>3.0               </td></tr>\n",
       "\t<tr><th scope=row>8</th><td>Mick LaSalle      </td><td>Just My Luck      </td><td>2.0               </td></tr>\n",
       "\t<tr><th scope=row>11</th><td>Mick LaSalle      </td><td>The Night Listener</td><td>3.0               </td></tr>\n",
       "\t<tr><th scope=row>13</th><td>Claudia Puig      </td><td>Just My Luck      </td><td>3.0               </td></tr>\n",
       "\t<tr><th scope=row>16</th><td>Claudia Puig      </td><td>The Night Listener</td><td>4.5               </td></tr>\n",
       "\t<tr><th scope=row>17</th><td>Lisa Rose         </td><td>Lady in the Water </td><td>2.5               </td></tr>\n",
       "\t<tr><th scope=row>19</th><td>Lisa Rose         </td><td>Just My Luck      </td><td>3.0               </td></tr>\n",
       "\t<tr><th scope=row>21</th><td>Lisa Rose         </td><td>The Night Listener</td><td>3.0               </td></tr>\n",
       "\t<tr><th scope=row>26</th><td>Gene Seymour      </td><td>Lady in the Water </td><td>3.0               </td></tr>\n",
       "\t<tr><th scope=row>28</th><td>Gene Seymour      </td><td>Just My Luck      </td><td>1.5               </td></tr>\n",
       "\t<tr><th scope=row>31</th><td>Gene Seymour      </td><td>The Night Listener</td><td>3.0               </td></tr>\n",
       "</tbody>\n",
       "</table>\n"
      ],
      "text/latex": [
       "\\begin{tabular}{r|lll}\n",
       "  & critic & title & rating\\\\\n",
       "\\hline\n",
       "\t1 & Jack Matthews      & Lady in the Water  & 3.0               \\\\\n",
       "\t5 & Jack Matthews      & The Night Listener & 3.0               \\\\\n",
       "\t6 & Mick LaSalle       & Lady in the Water  & 3.0               \\\\\n",
       "\t8 & Mick LaSalle       & Just My Luck       & 2.0               \\\\\n",
       "\t11 & Mick LaSalle       & The Night Listener & 3.0               \\\\\n",
       "\t13 & Claudia Puig       & Just My Luck       & 3.0               \\\\\n",
       "\t16 & Claudia Puig       & The Night Listener & 4.5               \\\\\n",
       "\t17 & Lisa Rose          & Lady in the Water  & 2.5               \\\\\n",
       "\t19 & Lisa Rose          & Just My Luck       & 3.0               \\\\\n",
       "\t21 & Lisa Rose          & The Night Listener & 3.0               \\\\\n",
       "\t26 & Gene Seymour       & Lady in the Water  & 3.0               \\\\\n",
       "\t28 & Gene Seymour       & Just My Luck       & 1.5               \\\\\n",
       "\t31 & Gene Seymour       & The Night Listener & 3.0               \\\\\n",
       "\\end{tabular}\n"
      ],
      "text/markdown": [
       "\n",
       "| <!--/--> | critic | title | rating |\n",
       "|---|---|---|---|\n",
       "| 1 | Jack Matthews      | Lady in the Water  | 3.0                |\n",
       "| 5 | Jack Matthews      | The Night Listener | 3.0                |\n",
       "| 6 | Mick LaSalle       | Lady in the Water  | 3.0                |\n",
       "| 8 | Mick LaSalle       | Just My Luck       | 2.0                |\n",
       "| 11 | Mick LaSalle       | The Night Listener | 3.0                |\n",
       "| 13 | Claudia Puig       | Just My Luck       | 3.0                |\n",
       "| 16 | Claudia Puig       | The Night Listener | 4.5                |\n",
       "| 17 | Lisa Rose          | Lady in the Water  | 2.5                |\n",
       "| 19 | Lisa Rose          | Just My Luck       | 3.0                |\n",
       "| 21 | Lisa Rose          | The Night Listener | 3.0                |\n",
       "| 26 | Gene Seymour       | Lady in the Water  | 3.0                |\n",
       "| 28 | Gene Seymour       | Just My Luck       | 1.5                |\n",
       "| 31 | Gene Seymour       | The Night Listener | 3.0                |\n",
       "\n"
      ],
      "text/plain": [
       "   critic        title              rating\n",
       "1  Jack Matthews Lady in the Water  3.0   \n",
       "5  Jack Matthews The Night Listener 3.0   \n",
       "6  Mick LaSalle  Lady in the Water  3.0   \n",
       "8  Mick LaSalle  Just My Luck       2.0   \n",
       "11 Mick LaSalle  The Night Listener 3.0   \n",
       "13 Claudia Puig  Just My Luck       3.0   \n",
       "16 Claudia Puig  The Night Listener 4.5   \n",
       "17 Lisa Rose     Lady in the Water  2.5   \n",
       "19 Lisa Rose     Just My Luck       3.0   \n",
       "21 Lisa Rose     The Night Listener 3.0   \n",
       "26 Gene Seymour  Lady in the Water  3.0   \n",
       "28 Gene Seymour  Just My Luck       1.5   \n",
       "31 Gene Seymour  The Night Listener 3.0   "
      ]
     },
     "metadata": {},
     "output_type": "display_data"
    }
   ],
   "source": [
    "ratings_t <- ratings[ratings$title %in% titles_na_critic,]\n",
    "ratings_t"
   ]
  },
  {
   "cell_type": "code",
   "execution_count": 10,
   "metadata": {},
   "outputs": [
    {
     "data": {
      "text/html": [
       "<table>\n",
       "<thead><tr><th scope=col>critic</th><th scope=col>title</th><th scope=col>rating</th><th scope=col>similarity</th></tr></thead>\n",
       "<tbody>\n",
       "\t<tr><td>Claudia Puig      </td><td>Just My Luck      </td><td>3.0               </td><td>0.8934051         </td></tr>\n",
       "\t<tr><td>Claudia Puig      </td><td>The Night Listener</td><td>4.5               </td><td>0.8934051         </td></tr>\n",
       "\t<tr><td>Gene Seymour      </td><td>Lady in the Water </td><td>3.0               </td><td>0.3812464         </td></tr>\n",
       "\t<tr><td>Gene Seymour      </td><td>Just My Luck      </td><td>1.5               </td><td>0.3812464         </td></tr>\n",
       "\t<tr><td>Gene Seymour      </td><td>The Night Listener</td><td>3.0               </td><td>0.3812464         </td></tr>\n",
       "\t<tr><td>Jack Matthews     </td><td>Lady in the Water </td><td>3.0               </td><td>0.6628490         </td></tr>\n",
       "\t<tr><td>Jack Matthews     </td><td>The Night Listener</td><td>3.0               </td><td>0.6628490         </td></tr>\n",
       "\t<tr><td>Lisa Rose         </td><td>Lady in the Water </td><td>2.5               </td><td>0.9912407         </td></tr>\n",
       "\t<tr><td>Lisa Rose         </td><td>Just My Luck      </td><td>3.0               </td><td>0.9912407         </td></tr>\n",
       "\t<tr><td>Lisa Rose         </td><td>The Night Listener</td><td>3.0               </td><td>0.9912407         </td></tr>\n",
       "\t<tr><td>Mick LaSalle      </td><td>Lady in the Water </td><td>3.0               </td><td>0.9244735         </td></tr>\n",
       "\t<tr><td>Mick LaSalle      </td><td>Just My Luck      </td><td>2.0               </td><td>0.9244735         </td></tr>\n",
       "\t<tr><td>Mick LaSalle      </td><td>The Night Listener</td><td>3.0               </td><td>0.9244735         </td></tr>\n",
       "</tbody>\n",
       "</table>\n"
      ],
      "text/latex": [
       "\\begin{tabular}{r|llll}\n",
       " critic & title & rating & similarity\\\\\n",
       "\\hline\n",
       "\t Claudia Puig       & Just My Luck       & 3.0                & 0.8934051         \\\\\n",
       "\t Claudia Puig       & The Night Listener & 4.5                & 0.8934051         \\\\\n",
       "\t Gene Seymour       & Lady in the Water  & 3.0                & 0.3812464         \\\\\n",
       "\t Gene Seymour       & Just My Luck       & 1.5                & 0.3812464         \\\\\n",
       "\t Gene Seymour       & The Night Listener & 3.0                & 0.3812464         \\\\\n",
       "\t Jack Matthews      & Lady in the Water  & 3.0                & 0.6628490         \\\\\n",
       "\t Jack Matthews      & The Night Listener & 3.0                & 0.6628490         \\\\\n",
       "\t Lisa Rose          & Lady in the Water  & 2.5                & 0.9912407         \\\\\n",
       "\t Lisa Rose          & Just My Luck       & 3.0                & 0.9912407         \\\\\n",
       "\t Lisa Rose          & The Night Listener & 3.0                & 0.9912407         \\\\\n",
       "\t Mick LaSalle       & Lady in the Water  & 3.0                & 0.9244735         \\\\\n",
       "\t Mick LaSalle       & Just My Luck       & 2.0                & 0.9244735         \\\\\n",
       "\t Mick LaSalle       & The Night Listener & 3.0                & 0.9244735         \\\\\n",
       "\\end{tabular}\n"
      ],
      "text/markdown": [
       "\n",
       "| critic | title | rating | similarity |\n",
       "|---|---|---|---|\n",
       "| Claudia Puig       | Just My Luck       | 3.0                | 0.8934051          |\n",
       "| Claudia Puig       | The Night Listener | 4.5                | 0.8934051          |\n",
       "| Gene Seymour       | Lady in the Water  | 3.0                | 0.3812464          |\n",
       "| Gene Seymour       | Just My Luck       | 1.5                | 0.3812464          |\n",
       "| Gene Seymour       | The Night Listener | 3.0                | 0.3812464          |\n",
       "| Jack Matthews      | Lady in the Water  | 3.0                | 0.6628490          |\n",
       "| Jack Matthews      | The Night Listener | 3.0                | 0.6628490          |\n",
       "| Lisa Rose          | Lady in the Water  | 2.5                | 0.9912407          |\n",
       "| Lisa Rose          | Just My Luck       | 3.0                | 0.9912407          |\n",
       "| Lisa Rose          | The Night Listener | 3.0                | 0.9912407          |\n",
       "| Mick LaSalle       | Lady in the Water  | 3.0                | 0.9244735          |\n",
       "| Mick LaSalle       | Just My Luck       | 2.0                | 0.9244735          |\n",
       "| Mick LaSalle       | The Night Listener | 3.0                | 0.9244735          |\n",
       "\n"
      ],
      "text/plain": [
       "   critic        title              rating similarity\n",
       "1  Claudia Puig  Just My Luck       3.0    0.8934051 \n",
       "2  Claudia Puig  The Night Listener 4.5    0.8934051 \n",
       "3  Gene Seymour  Lady in the Water  3.0    0.3812464 \n",
       "4  Gene Seymour  Just My Luck       1.5    0.3812464 \n",
       "5  Gene Seymour  The Night Listener 3.0    0.3812464 \n",
       "6  Jack Matthews Lady in the Water  3.0    0.6628490 \n",
       "7  Jack Matthews The Night Listener 3.0    0.6628490 \n",
       "8  Lisa Rose     Lady in the Water  2.5    0.9912407 \n",
       "9  Lisa Rose     Just My Luck       3.0    0.9912407 \n",
       "10 Lisa Rose     The Night Listener 3.0    0.9912407 \n",
       "11 Mick LaSalle  Lady in the Water  3.0    0.9244735 \n",
       "12 Mick LaSalle  Just My Luck       2.0    0.9244735 \n",
       "13 Mick LaSalle  The Night Listener 3.0    0.9244735 "
      ]
     },
     "metadata": {},
     "output_type": "display_data"
    }
   ],
   "source": [
    "x = (setDT(data.frame(sim_users[,6]),keep.rownames = TRUE)[])\n",
    "names(x) = c('critic','similarity')\n",
    "ratings_t = merge(x = ratings_t, y = x, by = \"critic\", all.x =\n",
    "TRUE)\n",
    "ratings_t"
   ]
  },
  {
   "cell_type": "code",
   "execution_count": 11,
   "metadata": {},
   "outputs": [
    {
     "data": {
      "text/html": [
       "<table>\n",
       "<thead><tr><th scope=col>critic</th><th scope=col>title</th><th scope=col>rating</th><th scope=col>similarity</th><th scope=col>sim_rating</th></tr></thead>\n",
       "<tbody>\n",
       "\t<tr><td>Claudia Puig      </td><td>Just My Luck      </td><td>3.0               </td><td>0.8934051         </td><td>2.6802154         </td></tr>\n",
       "\t<tr><td>Claudia Puig      </td><td>The Night Listener</td><td>4.5               </td><td>0.8934051         </td><td>4.0203232         </td></tr>\n",
       "\t<tr><td>Gene Seymour      </td><td>Lady in the Water </td><td>3.0               </td><td>0.3812464         </td><td>1.1437393         </td></tr>\n",
       "\t<tr><td>Gene Seymour      </td><td>Just My Luck      </td><td>1.5               </td><td>0.3812464         </td><td>0.5718696         </td></tr>\n",
       "\t<tr><td>Gene Seymour      </td><td>The Night Listener</td><td>3.0               </td><td>0.3812464         </td><td>1.1437393         </td></tr>\n",
       "\t<tr><td>Jack Matthews     </td><td>Lady in the Water </td><td>3.0               </td><td>0.6628490         </td><td>1.9885469         </td></tr>\n",
       "\t<tr><td>Jack Matthews     </td><td>The Night Listener</td><td>3.0               </td><td>0.6628490         </td><td>1.9885469         </td></tr>\n",
       "\t<tr><td>Lisa Rose         </td><td>Lady in the Water </td><td>2.5               </td><td>0.9912407         </td><td>2.4781018         </td></tr>\n",
       "\t<tr><td>Lisa Rose         </td><td>Just My Luck      </td><td>3.0               </td><td>0.9912407         </td><td>2.9737221         </td></tr>\n",
       "\t<tr><td>Lisa Rose         </td><td>The Night Listener</td><td>3.0               </td><td>0.9912407         </td><td>2.9737221         </td></tr>\n",
       "\t<tr><td>Mick LaSalle      </td><td>Lady in the Water </td><td>3.0               </td><td>0.9244735         </td><td>2.7734204         </td></tr>\n",
       "\t<tr><td>Mick LaSalle      </td><td>Just My Luck      </td><td>2.0               </td><td>0.9244735         </td><td>1.8489469         </td></tr>\n",
       "\t<tr><td>Mick LaSalle      </td><td>The Night Listener</td><td>3.0               </td><td>0.9244735         </td><td>2.7734204         </td></tr>\n",
       "</tbody>\n",
       "</table>\n"
      ],
      "text/latex": [
       "\\begin{tabular}{r|lllll}\n",
       " critic & title & rating & similarity & sim\\_rating\\\\\n",
       "\\hline\n",
       "\t Claudia Puig       & Just My Luck       & 3.0                & 0.8934051          & 2.6802154         \\\\\n",
       "\t Claudia Puig       & The Night Listener & 4.5                & 0.8934051          & 4.0203232         \\\\\n",
       "\t Gene Seymour       & Lady in the Water  & 3.0                & 0.3812464          & 1.1437393         \\\\\n",
       "\t Gene Seymour       & Just My Luck       & 1.5                & 0.3812464          & 0.5718696         \\\\\n",
       "\t Gene Seymour       & The Night Listener & 3.0                & 0.3812464          & 1.1437393         \\\\\n",
       "\t Jack Matthews      & Lady in the Water  & 3.0                & 0.6628490          & 1.9885469         \\\\\n",
       "\t Jack Matthews      & The Night Listener & 3.0                & 0.6628490          & 1.9885469         \\\\\n",
       "\t Lisa Rose          & Lady in the Water  & 2.5                & 0.9912407          & 2.4781018         \\\\\n",
       "\t Lisa Rose          & Just My Luck       & 3.0                & 0.9912407          & 2.9737221         \\\\\n",
       "\t Lisa Rose          & The Night Listener & 3.0                & 0.9912407          & 2.9737221         \\\\\n",
       "\t Mick LaSalle       & Lady in the Water  & 3.0                & 0.9244735          & 2.7734204         \\\\\n",
       "\t Mick LaSalle       & Just My Luck       & 2.0                & 0.9244735          & 1.8489469         \\\\\n",
       "\t Mick LaSalle       & The Night Listener & 3.0                & 0.9244735          & 2.7734204         \\\\\n",
       "\\end{tabular}\n"
      ],
      "text/markdown": [
       "\n",
       "| critic | title | rating | similarity | sim_rating |\n",
       "|---|---|---|---|---|\n",
       "| Claudia Puig       | Just My Luck       | 3.0                | 0.8934051          | 2.6802154          |\n",
       "| Claudia Puig       | The Night Listener | 4.5                | 0.8934051          | 4.0203232          |\n",
       "| Gene Seymour       | Lady in the Water  | 3.0                | 0.3812464          | 1.1437393          |\n",
       "| Gene Seymour       | Just My Luck       | 1.5                | 0.3812464          | 0.5718696          |\n",
       "| Gene Seymour       | The Night Listener | 3.0                | 0.3812464          | 1.1437393          |\n",
       "| Jack Matthews      | Lady in the Water  | 3.0                | 0.6628490          | 1.9885469          |\n",
       "| Jack Matthews      | The Night Listener | 3.0                | 0.6628490          | 1.9885469          |\n",
       "| Lisa Rose          | Lady in the Water  | 2.5                | 0.9912407          | 2.4781018          |\n",
       "| Lisa Rose          | Just My Luck       | 3.0                | 0.9912407          | 2.9737221          |\n",
       "| Lisa Rose          | The Night Listener | 3.0                | 0.9912407          | 2.9737221          |\n",
       "| Mick LaSalle       | Lady in the Water  | 3.0                | 0.9244735          | 2.7734204          |\n",
       "| Mick LaSalle       | Just My Luck       | 2.0                | 0.9244735          | 1.8489469          |\n",
       "| Mick LaSalle       | The Night Listener | 3.0                | 0.9244735          | 2.7734204          |\n",
       "\n"
      ],
      "text/plain": [
       "   critic        title              rating similarity sim_rating\n",
       "1  Claudia Puig  Just My Luck       3.0    0.8934051  2.6802154 \n",
       "2  Claudia Puig  The Night Listener 4.5    0.8934051  4.0203232 \n",
       "3  Gene Seymour  Lady in the Water  3.0    0.3812464  1.1437393 \n",
       "4  Gene Seymour  Just My Luck       1.5    0.3812464  0.5718696 \n",
       "5  Gene Seymour  The Night Listener 3.0    0.3812464  1.1437393 \n",
       "6  Jack Matthews Lady in the Water  3.0    0.6628490  1.9885469 \n",
       "7  Jack Matthews The Night Listener 3.0    0.6628490  1.9885469 \n",
       "8  Lisa Rose     Lady in the Water  2.5    0.9912407  2.4781018 \n",
       "9  Lisa Rose     Just My Luck       3.0    0.9912407  2.9737221 \n",
       "10 Lisa Rose     The Night Listener 3.0    0.9912407  2.9737221 \n",
       "11 Mick LaSalle  Lady in the Water  3.0    0.9244735  2.7734204 \n",
       "12 Mick LaSalle  Just My Luck       2.0    0.9244735  1.8489469 \n",
       "13 Mick LaSalle  The Night Listener 3.0    0.9244735  2.7734204 "
      ]
     },
     "metadata": {},
     "output_type": "display_data"
    }
   ],
   "source": [
    "ratings_t$sim_rating = ratings_t$rating*ratings_t$similarity\n",
    "ratings_t"
   ]
  },
  {
   "cell_type": "code",
   "execution_count": 13,
   "metadata": {},
   "outputs": [
    {
     "data": {
      "text/html": [
       "<table>\n",
       "<thead><tr><th scope=col>sum(sim_rating)/sum(similarity)</th></tr></thead>\n",
       "<tbody>\n",
       "\t<tr><td>2.934837</td></tr>\n",
       "</tbody>\n",
       "</table>\n"
      ],
      "text/latex": [
       "\\begin{tabular}{r|l}\n",
       " sum(sim\\_rating)/sum(similarity)\\\\\n",
       "\\hline\n",
       "\t 2.934837\\\\\n",
       "\\end{tabular}\n"
      ],
      "text/markdown": [
       "\n",
       "| sum(sim_rating)/sum(similarity) |\n",
       "|---|\n",
       "| 2.934837 |\n",
       "\n"
      ],
      "text/plain": [
       "  sum(sim_rating)/sum(similarity)\n",
       "1 2.934837                       "
      ]
     },
     "metadata": {},
     "output_type": "display_data"
    }
   ],
   "source": [
    "result = ratings_t %>% group_by(title) %>%\n",
    "summarise(sum(sim_rating)/sum(similarity))\n",
    "result"
   ]
  },
  {
   "cell_type": "code",
   "execution_count": 14,
   "metadata": {},
   "outputs": [
    {
     "data": {
      "text/html": [
       "<table>\n",
       "<thead><tr><th scope=col>sum(sim_rating)/sum(similarity)</th></tr></thead>\n",
       "<tbody>\n",
       "\t<tr><td>2.934837</td></tr>\n",
       "</tbody>\n",
       "</table>\n"
      ],
      "text/latex": [
       "\\begin{tabular}{r|l}\n",
       " sum(sim\\_rating)/sum(similarity)\\\\\n",
       "\\hline\n",
       "\t 2.934837\\\\\n",
       "\\end{tabular}\n"
      ],
      "text/markdown": [
       "\n",
       "| sum(sim_rating)/sum(similarity) |\n",
       "|---|\n",
       "| 2.934837 |\n",
       "\n"
      ],
      "text/plain": [
       "  sum(sim_rating)/sum(similarity)\n",
       "1 2.934837                       "
      ]
     },
     "metadata": {},
     "output_type": "display_data"
    }
   ],
   "source": [
    "result"
   ]
  },
  {
   "cell_type": "code",
   "execution_count": 15,
   "metadata": {},
   "outputs": [
    {
     "data": {
      "text/html": [
       "3.16666666666667"
      ],
      "text/latex": [
       "3.16666666666667"
      ],
      "text/markdown": [
       "3.16666666666667"
      ],
      "text/plain": [
       "[1] 3.166667"
      ]
     },
     "metadata": {},
     "output_type": "display_data"
    }
   ],
   "source": [
    "mean(rating_critic$rating,na.rm = T)"
   ]
  },
  {
   "cell_type": "code",
   "execution_count": 16,
   "metadata": {},
   "outputs": [],
   "source": [
    "generateRecommendations <- function(userId){\n",
    "rating_critic = setDT(movie_ratings[colnames(movie_ratings)\n",
    "[userId]],keep.rownames = TRUE)[]\n",
    "names(rating_critic) = c('title','rating')\n",
    "titles_na_critic =\n",
    "rating_critic$title[is.na(rating_critic$rating)]\n",
    "ratings_t =ratings[ratings$title %in% titles_na_critic,]\n",
    "#add similarity values for each user as new variable\n",
    "x = (setDT(data.frame(sim_users[,userId]),keep.rownames = TRUE)\n",
    "[])\n",
    "names(x) = c('critic','similarity')\n",
    "ratings_t = merge(x = ratings_t, y = x, by = \"critic\", all.x =\n",
    "TRUE)\n",
    "#mutiply rating with similarity values\n",
    "ratings_t$sim_rating = ratings_t$rating*ratings_t$similarity\n",
    "#predicting the non rated titles\n",
    "result = ratings_t %>% group_by(title) %>%\n",
    "summarise(sum(sim_rating)/sum(similarity))\n",
    "return(result)\n",
    "}"
   ]
  },
  {
   "cell_type": "code",
   "execution_count": 20,
   "metadata": {},
   "outputs": [
    {
     "data": {
      "text/html": [
       "<table>\n",
       "<thead><tr><th scope=col>sum(sim_rating)/sum(similarity)</th></tr></thead>\n",
       "<tbody>\n",
       "\t<tr><td>2.409926</td></tr>\n",
       "</tbody>\n",
       "</table>\n"
      ],
      "text/latex": [
       "\\begin{tabular}{r|l}\n",
       " sum(sim\\_rating)/sum(similarity)\\\\\n",
       "\\hline\n",
       "\t 2.409926\\\\\n",
       "\\end{tabular}\n"
      ],
      "text/markdown": [
       "\n",
       "| sum(sim_rating)/sum(similarity) |\n",
       "|---|\n",
       "| 2.409926 |\n",
       "\n"
      ],
      "text/plain": [
       "  sum(sim_rating)/sum(similarity)\n",
       "1 2.409926                       "
      ]
     },
     "metadata": {},
     "output_type": "display_data"
    }
   ],
   "source": [
    "generateRecommendations(3)"
   ]
  },
  {
   "cell_type": "code",
   "execution_count": null,
   "metadata": {},
   "outputs": [],
   "source": []
  }
 ],
 "metadata": {
  "kernelspec": {
   "display_name": "R",
   "language": "R",
   "name": "ir"
  },
  "language_info": {
   "codemirror_mode": "r",
   "file_extension": ".r",
   "mimetype": "text/x-r-source",
   "name": "R",
   "pygments_lexer": "r",
   "version": "3.5.1"
  }
 },
 "nbformat": 4,
 "nbformat_minor": 2
}
